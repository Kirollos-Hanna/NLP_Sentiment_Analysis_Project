{
 "cells": [
  {
   "cell_type": "markdown",
   "metadata": {},
   "source": [
    "Load Data"
   ]
  },
  {
   "cell_type": "code",
   "execution_count": 1,
   "metadata": {},
   "outputs": [
    {
     "name": "stdout",
     "output_type": "stream",
     "text": [
      "(1000, 2)\n",
      "(997, 2)\n",
      "Wow... Loved this place.\n",
      "1\n"
     ]
    },
    {
     "data": {
      "text/html": [
       "<div>\n",
       "<style scoped>\n",
       "    .dataframe tbody tr th:only-of-type {\n",
       "        vertical-align: middle;\n",
       "    }\n",
       "\n",
       "    .dataframe tbody tr th {\n",
       "        vertical-align: top;\n",
       "    }\n",
       "\n",
       "    .dataframe thead th {\n",
       "        text-align: right;\n",
       "    }\n",
       "</style>\n",
       "<table border=\"1\" class=\"dataframe\">\n",
       "  <thead>\n",
       "    <tr style=\"text-align: right;\">\n",
       "      <th></th>\n",
       "      <th>Review</th>\n",
       "      <th>Liked</th>\n",
       "    </tr>\n",
       "  </thead>\n",
       "  <tbody>\n",
       "    <tr>\n",
       "      <th>0</th>\n",
       "      <td>Wow... Loved this place.</td>\n",
       "      <td>1</td>\n",
       "    </tr>\n",
       "    <tr>\n",
       "      <th>1</th>\n",
       "      <td>Crust is not good.</td>\n",
       "      <td>0</td>\n",
       "    </tr>\n",
       "    <tr>\n",
       "      <th>2</th>\n",
       "      <td>Not tasty and the texture was just nasty.</td>\n",
       "      <td>0</td>\n",
       "    </tr>\n",
       "    <tr>\n",
       "      <th>3</th>\n",
       "      <td>Stopped by during the late May bank holiday of...</td>\n",
       "      <td>1</td>\n",
       "    </tr>\n",
       "    <tr>\n",
       "      <th>4</th>\n",
       "      <td>The selection on the menu was great and so wer...</td>\n",
       "      <td>1</td>\n",
       "    </tr>\n",
       "  </tbody>\n",
       "</table>\n",
       "</div>"
      ],
      "text/plain": [
       "                                              Review  Liked\n",
       "0                           Wow... Loved this place.      1\n",
       "1                                 Crust is not good.      0\n",
       "2          Not tasty and the texture was just nasty.      0\n",
       "3  Stopped by during the late May bank holiday of...      1\n",
       "4  The selection on the menu was great and so wer...      1"
      ]
     },
     "execution_count": 1,
     "metadata": {},
     "output_type": "execute_result"
    }
   ],
   "source": [
    "import pandas as pd\n",
    "\n",
    "df = pd.read_excel(\"review_data.xlsx\")\n",
    "\n",
    "print(df.shape)\n",
    "df = df.dropna() #Drop null rows to not deal with them in this step\n",
    "print(df.shape)\n",
    "\n",
    "reviews = df[\"Review\"]\n",
    "opinion = df[\"Liked\"]\n",
    "\n",
    "print(reviews[0])\n",
    "print(opinion[0])\n",
    "\n",
    "df.head()"
   ]
  },
  {
   "cell_type": "markdown",
   "metadata": {},
   "source": [
    "Handle Not"
   ]
  },
  {
   "cell_type": "code",
   "execution_count": 2,
   "metadata": {},
   "outputs": [],
   "source": [
    "def handle_not(line:list):\n",
    "    for token,i in zip(line,range(0,len(line))):\n",
    "        if token == \"not\":\n",
    "            if line[i+1] != None:\n",
    "                if (line[i+1] == \"good\"):\n",
    "                   line[i+1] = \"bad\"\n",
    "                elif (line[i+1] == \"bad\"):\n",
    "                   line[i+1] = \"good\"\n",
    "                elif (line[i+1] == \"tasty\"):\n",
    "                   line[i+1] = \"bland\"\n",
    "                elif (line[i+1] == \"bland\"):\n",
    "                   line[i+1] = \"tasty\"\n",
    "    return line"
   ]
  },
  {
   "cell_type": "markdown",
   "metadata": {},
   "source": [
    "Preprocessing"
   ]
  },
  {
   "cell_type": "code",
   "execution_count": 4,
   "metadata": {},
   "outputs": [
    {
     "name": "stdout",
     "output_type": "stream",
     "text": [
      "Wow... Loved this place.  >>  ['wow', 'love', 'thi', 'place']\n",
      "Crust is not good.  >>  ['crust', 'bad']\n",
      "Not tasty and the texture was just nasty.  >>  ['bland', 'textur', 'wa', 'nasti']\n"
     ]
    }
   ],
   "source": [
    "import string\n",
    "from tkinter import W\n",
    "from nltk.tokenize import word_tokenize\n",
    "from nltk.corpus import stopwords\n",
    "from nltk.stem import PorterStemmer\n",
    "\n",
    "sentence_all = list()\n",
    "lines = reviews.to_list()\n",
    "\n",
    "#lines = [\"Program programmer AND Programming ... programmed\"]\n",
    "\n",
    "for line in lines:\n",
    "    tokens = word_tokenize(line) #TOKENIZATION\n",
    "    tokens = [w.lower() for w in tokens] #TO LOWERCASE\n",
    "    table = str.maketrans('','',string.punctuation) #PUNCTUATION REMOVAL\n",
    "    stripped = [w.translate(table) for w in tokens] #STRIPPING\n",
    "    words = [word for word in stripped if word.isalpha()] #STRIPPING\n",
    "\n",
    "    words = handle_not(words)\n",
    "\n",
    "    for w,i in zip(words,range(0,len(words))): #Stemming\n",
    "        w = PorterStemmer().stem(w)\n",
    "        words[i] = w\n",
    "\n",
    "    stop_words = set(stopwords.words(\"english\")) #STOPWORD REMOVAL\n",
    "    words = [w for w in words if not w in stop_words] #STOPWORD REMOVAL\n",
    "    \n",
    "    \n",
    "\n",
    "    sentence_all.append(words)\n",
    "\n",
    "print(reviews[0],\" >> \",sentence_all[0])\n",
    "print(reviews[1],\" >> \",sentence_all[1])\n",
    "print(reviews[2],\" >> \",sentence_all[2])"
   ]
  }
 ],
 "metadata": {
  "kernelspec": {
   "display_name": "Python 3.10.7 64-bit",
   "language": "python",
   "name": "python3"
  },
  "language_info": {
   "codemirror_mode": {
    "name": "ipython",
    "version": 3
   },
   "file_extension": ".py",
   "mimetype": "text/x-python",
   "name": "python",
   "nbconvert_exporter": "python",
   "pygments_lexer": "ipython3",
   "version": "3.10.7"
  },
  "orig_nbformat": 4,
  "vscode": {
   "interpreter": {
    "hash": "bcf76d94f5b8b28f3dd69206380c74a29b1a182d1f2d629c955f29cd9944fd60"
   }
  }
 },
 "nbformat": 4,
 "nbformat_minor": 2
}
