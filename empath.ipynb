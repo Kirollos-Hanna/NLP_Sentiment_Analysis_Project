{
 "cells": [
  {
   "cell_type": "code",
   "execution_count": 1,
   "metadata": {},
   "outputs": [
    {
     "data": {
      "text/html": [
       "<div>\n",
       "<style scoped>\n",
       "    .dataframe tbody tr th:only-of-type {\n",
       "        vertical-align: middle;\n",
       "    }\n",
       "\n",
       "    .dataframe tbody tr th {\n",
       "        vertical-align: top;\n",
       "    }\n",
       "\n",
       "    .dataframe thead th {\n",
       "        text-align: right;\n",
       "    }\n",
       "</style>\n",
       "<table border=\"1\" class=\"dataframe\">\n",
       "  <thead>\n",
       "    <tr style=\"text-align: right;\">\n",
       "      <th></th>\n",
       "      <th>Review</th>\n",
       "      <th>Liked</th>\n",
       "      <th>price</th>\n",
       "      <th>quality</th>\n",
       "      <th>quantity</th>\n",
       "      <th>location</th>\n",
       "    </tr>\n",
       "  </thead>\n",
       "  <tbody>\n",
       "    <tr>\n",
       "      <th>0</th>\n",
       "      <td>Wow... Loved this place.</td>\n",
       "      <td>1</td>\n",
       "      <td>0</td>\n",
       "      <td>0</td>\n",
       "      <td>0</td>\n",
       "      <td>1</td>\n",
       "    </tr>\n",
       "    <tr>\n",
       "      <th>1</th>\n",
       "      <td>Crust is not good.</td>\n",
       "      <td>0</td>\n",
       "      <td>0</td>\n",
       "      <td>1</td>\n",
       "      <td>0</td>\n",
       "      <td>0</td>\n",
       "    </tr>\n",
       "    <tr>\n",
       "      <th>2</th>\n",
       "      <td>Not tasty and the texture was just nasty.</td>\n",
       "      <td>0</td>\n",
       "      <td>0</td>\n",
       "      <td>1</td>\n",
       "      <td>0</td>\n",
       "      <td>0</td>\n",
       "    </tr>\n",
       "    <tr>\n",
       "      <th>3</th>\n",
       "      <td>Stopped by during the late May bank holiday of...</td>\n",
       "      <td>1</td>\n",
       "      <td>0</td>\n",
       "      <td>0</td>\n",
       "      <td>0</td>\n",
       "      <td>0</td>\n",
       "    </tr>\n",
       "    <tr>\n",
       "      <th>4</th>\n",
       "      <td>The selection on the menu was great and so wer...</td>\n",
       "      <td>1</td>\n",
       "      <td>1</td>\n",
       "      <td>1</td>\n",
       "      <td>0</td>\n",
       "      <td>0</td>\n",
       "    </tr>\n",
       "  </tbody>\n",
       "</table>\n",
       "</div>"
      ],
      "text/plain": [
       "                                              Review  Liked  price  quality  \\\n",
       "0                           Wow... Loved this place.      1      0        0   \n",
       "1                                 Crust is not good.      0      0        1   \n",
       "2          Not tasty and the texture was just nasty.      0      0        1   \n",
       "3  Stopped by during the late May bank holiday of...      1      0        0   \n",
       "4  The selection on the menu was great and so wer...      1      1        1   \n",
       "\n",
       "   quantity  location  \n",
       "0         0         1  \n",
       "1         0         0  \n",
       "2         0         0  \n",
       "3         0         0  \n",
       "4         0         0  "
      ]
     },
     "execution_count": 1,
     "metadata": {},
     "output_type": "execute_result"
    }
   ],
   "source": [
    "import pandas as pd\n",
    "\n",
    "df = pd.read_excel(\"string_matched.xlsx\")\n",
    "\n",
    "df.head()"
   ]
  },
  {
   "cell_type": "markdown",
   "metadata": {},
   "source": [
    "Keywords"
   ]
  },
  {
   "cell_type": "code",
   "execution_count": 2,
   "metadata": {},
   "outputs": [
    {
     "name": "stdout",
     "output_type": "stream",
     "text": [
      "['afford', 'buck', 'cheap', 'cost', 'discount', 'expens', 'fare', 'free', 'gratuiti', 'inexpens', 'price', 'pricey', 'spend', 'worth']\n",
      "['averag', 'bad', 'best', 'clean', 'creami', 'crispi', 'crumbi', 'crusti', 'disgrac', 'disgust', 'dri', 'driest', 'eew', 'fine', 'flavorless', 'good', 'great', 'greatest', 'horribl', 'nasti', 'nice', 'perfect', 'qualiti', 'sad', 'salti', 'satifi', 'satisfi', 'tasti', 'yucki', 'yummi']\n",
      "['amount', 'ampl', 'enough', 'gener', 'larg', 'larger', 'portion', 'quantiti', 'small', 'smaller']\n",
      "['airport', 'ambianc', 'ambienc', 'area', 'arriv', 'garden', 'joint', 'place', 'quaint']\n"
     ]
    }
   ],
   "source": [
    "df_script = pd.read_excel(\"for_script.xlsx\")\n",
    "df_script = df_script.fillna(0)\n",
    "\n",
    "df_price = df_script[df_script[\"price\"] == 1]\n",
    "df_quality = df_script[df_script[\"quality\"] == 1]\n",
    "df_quantity = df_script[df_script[\"quantity\"] == 1]\n",
    "df_location = df_script[df_script[\"location\"] == 1]\n",
    "\n",
    "import numpy as np\n",
    "\n",
    "arr_price = list(df_price[\"vocabulary\"])\n",
    "arr_quality = list(df_quality[\"vocabulary\"])\n",
    "arr_quantity = list(df_quantity[\"vocabulary\"])\n",
    "arr_location = list(df_location[\"vocabulary\"])\n",
    "\n",
    "print(arr_price)\n",
    "print(arr_quality)\n",
    "print(arr_quantity)\n",
    "print(arr_location)"
   ]
  },
  {
   "cell_type": "code",
   "execution_count": 3,
   "metadata": {},
   "outputs": [
    {
     "name": "stdout",
     "output_type": "stream",
     "text": [
      "<class 'list'>\n"
     ]
    }
   ],
   "source": [
    "arr_price = list(arr_price)\n",
    "print(type(arr_price))"
   ]
  },
  {
   "cell_type": "code",
   "execution_count": 4,
   "metadata": {},
   "outputs": [
    {
     "name": "stdout",
     "output_type": "stream",
     "text": [
      "[\"afford\", \"cost\", \"money\", \"price\", \"costs\", \"worth\", \"budget\", \"sell\", \"pay\", \"paycheck\", \"insurance\", \"buy\", \"pay\", \"good_money\", \"cost\", \"salary\", \"more_money\", \"fortune\", \"cheap\", \"profit\", \"rent\", \"worth\", \"costing\", \"expenses\", \"costed\", \"wages\", \"allowance\", \"enough_money\", \"earn\", \"invest\", \"savings\", \"little_money\", \"income\", \"college_fund\", \"as_much_money\", \"bills\", \"paychecks\", \"cheaper\", \"discount\", \"tax\", \"that_much_money\", \"taxes\", \"extra_money\", \"guaranteed\", \"donate\", \"provide\", \"thousands_of_dollars\", \"purchase\", \"luxuries\", \"funds\", \"paid\", \"millions_of_dollars\", \"luxury\", \"sold\", \"supply\", \"work\", \"tuition\", \"mortgage\", \"own_money\", \"charity\", \"bankrupt\", \"so_much_money\", \"minimum_wage\", \"bank_account\", \"job\", \"pocket_money\", \"waste\", \"stocks\", \"expensive\", \"much_money\", \"fee\", \"repairs\", \"wage\", \"fund\", \"saving\", \"big_money\", \"trade\", \"qualify\", \"deposit\", \"how_much_money\", \"cheapest\", \"debt\", \"monthly\", \"a_hundred_dollars\", \"offer\", \"buying\", \"gamble\", \"decent_amount\", \"donated\", \"fees\", \"prices\", \"hard_work\", \"sale\", \"Plus\", \"finances\", \"donating\", \"payment\", \"good_deal\", \"profits\", \"only_job\"]\n",
      "[\"good\", \"great\", \"bad\", \"nice\", \"horrible\", \"terrible\", \"happy\", \"awful\", \"guess\", \"best\", \"perfect\", \"actually\", \"Well\", \"amazing\", \"weird\", \"though\", \"glad\", \"right\", \"stupid\", \"well\", \"better\", \"like\", \"well\", \"Because\", \"better\", \"cool\", \"anyway\", \"mean\", \"sad\", \"honestly\", \"fine\", \"wonderful\", \"always\", \"special\", \"tough\", \"seriously\", \"suppose\", \"funny\", \"sure\", \"true\", \"awesome\", \"anyways\", \"fair\", \"hate\", \"fantastic\", \"fun\", \"mean\", \"Yeah\", \"proud\", \"sick\", \"just_the_way\", \"much\", \"okay\", \"probably\", \"bet\", \"good\", \"silly\", \"well\", \"pretty\", \"help\", \"love\", \"Actually\", \"crazy\", \"same\", \"upset\", \"easy\", \"lucky\", \"mad\", \"wrong\", \"Plus\", \"should\", \"good_thing\", \"real\"]\n",
      "[\"larger\", \"small\", \"smaller\", \"large\", \"tiny\", \"size\", \"bigger\", \"bulk\", \"which\", \"enormous\", \"amount\", \"portion\", \"structure\", \"smallest\", \"massive\", \"minuscule\", \"only\", \"thinner\", \"more\", \"itself\", \"expanded\", \"comprised\", \"fair_amount\", \"however\", \"significantly\", \"portions\", \"combined\", \"although\", \"small_size\", \"thickness\", \"less\", \"huge\", \"large_amount\", \"accommodate\", \"structures\", \"comparison\", \"gigantic\", \"substantially\", \"giant\", \"areas\", \"immense\", \"almost_nothing\", \"build\", \"compact\", \"though\", \"quantity\", \"form\", \"measured\", \"most\", \"largest\", \"stature\", \"stock\", \"designed\", \"own\", \"one\", \"constructed\", \"thicker\", \"growth\", \"enough\", \"shape\", \"big\", \"contained\", \"giant\", \"built\", \"sparse\", \"Though\", \"grain\", \"largely\", \"exterior\", \"amounts\", \"result\", \"other_parts\", \"considerably\", \"solid\", \"However\", \"diameter\", \"yet\", \"imposing\", \"circular\", \"majority\", \"width\", \"more\", \"miniscule\", \"easily\", \"twice\", \"bearing\", \"small_amount\", \"scarce\", \"standard\", \"vessels\", \"fairly\", \"scales\"]\n",
      "[\"place\", \"area\", \"city\", \"shack\", \"building\", \"lodge\", \"gardens\", \"town\", \"house\", \"cottage\", \"museum\", \"complex\", \"garden\", \"small_building\", \"warehouse\", \"mansion\", \"plaza\", \"caravan\", \"bungalow\", \"villa\", \"marketplace\", \"town_square\", \"small_cabin\", \"greenhouse\", \"factory\", \"small_shop\", \"yard\", \"resort\", \"small_house\", \"little_house\", \"town_hall\", \"small_area\", \"large_house\", \"campsite\", \"restaurant\", \"orchard\", \"cemetery\", \"docks\", \"apartment\", \"neighborhood\", \"department_store\", \"shop\", \"market\", \"countryside\", \"Inn\", \"houses\", \"neighbourhood\", \"shops\", \"large_building\", \"small_store\", \"tavern\", \"compound\", \"backyard\", \"massive_house\", \"graveyard\", \"Central_Park\", \"entire_place\", \"home\", \"courtyard\", \"inn\", \"back_garden\", \"grounds\", \"port\", \"farm_house\", \"fields\", \"shed\", \"front_yard\", \"small_cottage\", \"white_house\", \"campground\", \"apartments\", \"hotel\", \"hut\", \"main_house\", \"castle\", \"park\", \"grove\", \"small_place\", \"market_place\", \"perimeter\", \"fountain\", \"farmhouse\", \"small_home\", \"manor\", \"barn\", \"gazebo\", \"abandoned_building\", \"cathedral\", \"front_garden\", \"campus\", \"gallery\", \"huge_building\", \"yacht\", \"outskirts\", \"open_space\", \"small_village\", \"markets\", \"vehicles\"]\n"
     ]
    }
   ],
   "source": [
    "from empath import Empath\n",
    "\n",
    "lexicon = Empath()\n",
    "\n",
    "lexicon.create_category(\"food-price\",arr_price)\n",
    "lexicon.create_category(\"food-quality\",arr_quality)\n",
    "lexicon.create_category(\"food-quantity\",arr_quantity)\n",
    "lexicon.create_category(\"restaurant-location\",arr_location)"
   ]
  },
  {
   "cell_type": "code",
   "execution_count": 14,
   "metadata": {},
   "outputs": [
    {
     "name": "stdout",
     "output_type": "stream",
     "text": [
      "997\n",
      "997\n",
      "997\n",
      "997\n",
      "997\n"
     ]
    }
   ],
   "source": [
    "emp_price = []\n",
    "emp_quality = []\n",
    "emp_quantity = []\n",
    "emp_location = []\n",
    "\n",
    "cat = [\"food-price\",\"food-quality\",\"food-quantity\",\"restaurant-location\"]\n",
    "\n",
    "reviews = df[\"Review\"]\n",
    "\n",
    "for line in reviews:\n",
    "\n",
    "    curr = lexicon.analyze(line,cat)\n",
    "\n",
    "    emp_price.append(curr[\"food-price\"])\n",
    "    emp_quality.append(curr[\"food-quality\"])\n",
    "    emp_quantity.append(curr[\"food-quantity\"])\n",
    "    emp_location.append(curr[\"restaurant-location\"])\n",
    "\n",
    "print(len(reviews))\n",
    "print(len(emp_price))\n",
    "print(len(emp_quality))\n",
    "print(len(emp_quantity))\n",
    "print(len(emp_location))"
   ]
  },
  {
   "cell_type": "code",
   "execution_count": 22,
   "metadata": {},
   "outputs": [],
   "source": [
    "#print(emp_price)\n",
    "#print(emp_quality)\n",
    "#print(emp_quantity)\n",
    "#print(emp_location)"
   ]
  },
  {
   "cell_type": "code",
   "execution_count": 25,
   "metadata": {},
   "outputs": [
    {
     "name": "stdout",
     "output_type": "stream",
     "text": [
      "[[ 1.         -0.04992298]\n",
      " [-0.04992298  1.        ]]\n",
      "[[1.         0.13680166]\n",
      " [0.13680166 1.        ]]\n",
      "[[ 1.         -0.03288482]\n",
      " [-0.03288482  1.        ]]\n",
      "[[1.         0.02695927]\n",
      " [0.02695927 1.        ]]\n"
     ]
    }
   ],
   "source": [
    "liked = df[\"Liked\"]\n",
    "\n",
    "from numpy import corrcoef\n",
    "\n",
    "print(corrcoef(liked,emp_price))\n",
    "print(corrcoef(liked,emp_quality))\n",
    "print(corrcoef(liked,emp_quantity))\n",
    "print(corrcoef(liked,emp_location))"
   ]
  }
 ],
 "metadata": {
  "kernelspec": {
   "display_name": "Python 3.10.7 64-bit",
   "language": "python",
   "name": "python3"
  },
  "language_info": {
   "codemirror_mode": {
    "name": "ipython",
    "version": 3
   },
   "file_extension": ".py",
   "mimetype": "text/x-python",
   "name": "python",
   "nbconvert_exporter": "python",
   "pygments_lexer": "ipython3",
   "version": "3.10.7"
  },
  "orig_nbformat": 4,
  "vscode": {
   "interpreter": {
    "hash": "bcf76d94f5b8b28f3dd69206380c74a29b1a182d1f2d629c955f29cd9944fd60"
   }
  }
 },
 "nbformat": 4,
 "nbformat_minor": 2
}
