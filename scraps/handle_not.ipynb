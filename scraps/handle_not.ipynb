{
 "cells": [
  {
   "cell_type": "code",
   "execution_count": 2,
   "metadata": {},
   "outputs": [],
   "source": [
    "def handle_not(line:list):\n",
    "   for token,i in zip(line,range(0,len(line))):\n",
    "         if token == \"not\":\n",
    "            if line[i+1] != None:\n",
    "               if (line[i+1] == \"good\"):\n",
    "                  line[i+1] = \"bad\"\n",
    "               elif (line[i+1] == \"bad\"):\n",
    "                  line[i+1] = \"good\"\n",
    "               elif (line[i+1] == \"tasty\"):\n",
    "                  line[i+1] = \"bland\"\n",
    "               elif (line[i+1] == \"bland\"):\n",
    "                  line[i+1] = \"tasty\"\n",
    "               elif (line[i+1] == \"inspired\"):\n",
    "                  line[i+1] = \"uninspired\"\n",
    "               elif (line[i+1] == \"like\"):\n",
    "                  line[i+1] = \"dislike\"\n",
    "               elif (line[i+1] == \"worth\"):\n",
    "                  line[i+1] = \"unworth\"\n",
    "               elif (line[i+1] == \"lacking\"):\n",
    "                  line[i+1] = \"sufficent\"\n",
    "               elif (line[i+1] == \"sure\"):\n",
    "                  line[i+1] = \"unsure\"\n",
    "               elif (line[i+1] == \"pleasant\"):\n",
    "                  line[i+1] = \"unpleasant\"\n",
    "               elif (line[i+1] == \"impressed\"):\n",
    "                  line[i+1] = \"unimpressed\"\n",
    "               elif (line[i+1] == \"attentive\"):\n",
    "                  line[i+1] = \"unattentive\"\n",
    "               elif (line[i+1] == \"edible\"):\n",
    "                  line[i+1] = \"inedible\"\n",
    "               elif (line[i+1] == \"thick\"):\n",
    "                  line[i+1] = \"thin\"\n",
    "               elif (line[i+1] == \"clean\"):\n",
    "                  line[i+1] = \"dirty\"\n",
    "               elif (line[i+1] == \"consistent\"):\n",
    "                  line[i+1] = \"inconsistent\"\n",
    "\n",
    "   return line"
   ]
  },
  {
   "cell_type": "code",
   "execution_count": 4,
   "metadata": {},
   "outputs": [
    {
     "name": "stdout",
     "output_type": "stream",
     "text": [
      "['not', 'good']\n"
     ]
    }
   ],
   "source": [
    "line = [\"not\",\"bad\"]\n",
    "\n",
    "line = handle_not(line)\n",
    "print(line)"
   ]
  },
  {
   "cell_type": "code",
   "execution_count": 3,
   "metadata": {},
   "outputs": [
    {
     "name": "stdout",
     "output_type": "stream",
     "text": [
      "['sauce', 'was', 'not', 'bad']\n"
     ]
    }
   ],
   "source": [
    "line = [\"sauce\",\"was\",\"not\",\"good\"]\n",
    "line = handle_not(line)\n",
    "\n",
    "#the not is removed in stopword removal\n",
    "print(line)"
   ]
  },
  {
   "cell_type": "code",
   "execution_count": null,
   "metadata": {},
   "outputs": [],
   "source": [
    "def handle_not(line:list):\n",
    "   for token,i in line:\n",
    "        if token == \"not\":\n",
    "            if(line[i+1] == \"good\"):\n",
    "                line[i+1] = \"bad\"\n",
    "            elif(line[i+1] == \"bad\"):\n",
    "                line[i+1] = \"good\""
   ]
  }
 ],
 "metadata": {
  "kernelspec": {
   "display_name": "Python 3.10.7 64-bit",
   "language": "python",
   "name": "python3"
  },
  "language_info": {
   "codemirror_mode": {
    "name": "ipython",
    "version": 3
   },
   "file_extension": ".py",
   "mimetype": "text/x-python",
   "name": "python",
   "nbconvert_exporter": "python",
   "pygments_lexer": "ipython3",
   "version": "3.10.7"
  },
  "orig_nbformat": 4,
  "vscode": {
   "interpreter": {
    "hash": "bcf76d94f5b8b28f3dd69206380c74a29b1a182d1f2d629c955f29cd9944fd60"
   }
  }
 },
 "nbformat": 4,
 "nbformat_minor": 2
}
