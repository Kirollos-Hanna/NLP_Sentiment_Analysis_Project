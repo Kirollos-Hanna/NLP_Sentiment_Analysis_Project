{
 "cells": [
  {
   "cell_type": "markdown",
   "metadata": {},
   "source": [
    "Load Data"
   ]
  },
  {
   "cell_type": "code",
   "execution_count": 13,
   "metadata": {},
   "outputs": [
    {
     "name": "stdout",
     "output_type": "stream",
     "text": [
      "(1000, 2)\n",
      "(997, 2)\n",
      "Wow... Loved this place.\n",
      "1\n"
     ]
    },
    {
     "data": {
      "text/html": [
       "<div>\n",
       "<style scoped>\n",
       "    .dataframe tbody tr th:only-of-type {\n",
       "        vertical-align: middle;\n",
       "    }\n",
       "\n",
       "    .dataframe tbody tr th {\n",
       "        vertical-align: top;\n",
       "    }\n",
       "\n",
       "    .dataframe thead th {\n",
       "        text-align: right;\n",
       "    }\n",
       "</style>\n",
       "<table border=\"1\" class=\"dataframe\">\n",
       "  <thead>\n",
       "    <tr style=\"text-align: right;\">\n",
       "      <th></th>\n",
       "      <th>Review</th>\n",
       "      <th>Liked</th>\n",
       "    </tr>\n",
       "  </thead>\n",
       "  <tbody>\n",
       "    <tr>\n",
       "      <th>0</th>\n",
       "      <td>Wow... Loved this place.</td>\n",
       "      <td>1</td>\n",
       "    </tr>\n",
       "    <tr>\n",
       "      <th>1</th>\n",
       "      <td>Crust is not good.</td>\n",
       "      <td>0</td>\n",
       "    </tr>\n",
       "    <tr>\n",
       "      <th>2</th>\n",
       "      <td>Not tasty and the texture was just nasty.</td>\n",
       "      <td>0</td>\n",
       "    </tr>\n",
       "    <tr>\n",
       "      <th>3</th>\n",
       "      <td>Stopped by during the late May bank holiday of...</td>\n",
       "      <td>1</td>\n",
       "    </tr>\n",
       "    <tr>\n",
       "      <th>4</th>\n",
       "      <td>The selection on the menu was great and so wer...</td>\n",
       "      <td>1</td>\n",
       "    </tr>\n",
       "  </tbody>\n",
       "</table>\n",
       "</div>"
      ],
      "text/plain": [
       "                                              Review  Liked\n",
       "0                           Wow... Loved this place.      1\n",
       "1                                 Crust is not good.      0\n",
       "2          Not tasty and the texture was just nasty.      0\n",
       "3  Stopped by during the late May bank holiday of...      1\n",
       "4  The selection on the menu was great and so wer...      1"
      ]
     },
     "execution_count": 13,
     "metadata": {},
     "output_type": "execute_result"
    }
   ],
   "source": [
    "import pandas as pd\n",
    "\n",
    "df = pd.read_excel(\"review_data.xlsx\")\n",
    "\n",
    "print(df.shape)\n",
    "df = df.dropna() #Drop null rows to not deal with them in this step\n",
    "print(df.shape)\n",
    "\n",
    "reviews = df[\"Review\"]\n",
    "opinion = df[\"Liked\"]\n",
    "\n",
    "print(reviews[0])\n",
    "print(opinion[0])\n",
    "\n",
    "df.head()"
   ]
  },
  {
   "cell_type": "markdown",
   "metadata": {},
   "source": [
    "Handle Not"
   ]
  },
  {
   "cell_type": "code",
   "execution_count": 14,
   "metadata": {},
   "outputs": [],
   "source": [
    "def handle_not(line:list):\n",
    "   for token,i in zip(line,range(0,len(line))):\n",
    "         if token == \"not\":\n",
    "            if line[i+1] != None:\n",
    "               if (line[i+1] == \"good\"):\n",
    "                  line[i+1] = \"bad\"\n",
    "               elif (line[i+1] == \"bad\"):\n",
    "                  line[i+1] = \"good\"\n",
    "               elif (line[i+1] == \"tasty\"):\n",
    "                  line[i+1] = \"bland\"\n",
    "               elif (line[i+1] == \"bland\"):\n",
    "                  line[i+1] = \"tasty\"\n",
    "               elif (line[i+1] == \"inspired\"):\n",
    "                  line[i+1] = \"uninspired\"\n",
    "               elif (line[i+1] == \"like\"):\n",
    "                  line[i+1] = \"dislike\"\n",
    "               elif (line[i+1] == \"worth\"):\n",
    "                  line[i+1] = \"unworth\"\n",
    "               elif (line[i+1] == \"lacking\"):\n",
    "                  line[i+1] = \"sufficent\"\n",
    "               elif (line[i+1] == \"sure\"):\n",
    "                  line[i+1] = \"unsure\"\n",
    "               elif (line[i+1] == \"pleasant\"):\n",
    "                  line[i+1] = \"unpleasant\"\n",
    "               elif (line[i+1] == \"impressed\"):\n",
    "                  line[i+1] = \"unimpressed\"\n",
    "               elif (line[i+1] == \"attentive\"):\n",
    "                  line[i+1] = \"unattentive\"\n",
    "               elif (line[i+1] == \"edible\"):\n",
    "                  line[i+1] = \"inedible\"\n",
    "               elif (line[i+1] == \"thick\"):\n",
    "                  line[i+1] = \"thin\"\n",
    "               elif (line[i+1] == \"clean\"):\n",
    "                  line[i+1] = \"dirty\"\n",
    "               elif (line[i+1] == \"consistent\"):\n",
    "                  line[i+1] = \"inconsistent\"\n",
    "               elif (line[i+1] == \"love\"):\n",
    "                  line[i+1] = \"hate\"\n",
    "               elif (line[i+1] == \"hate\"):\n",
    "                  line[i+1] = \"love\"\n",
    "   return line"
   ]
  },
  {
   "cell_type": "markdown",
   "metadata": {},
   "source": [
    "Preprocessing"
   ]
  },
  {
   "cell_type": "code",
   "execution_count": 15,
   "metadata": {},
   "outputs": [
    {
     "name": "stdout",
     "output_type": "stream",
     "text": [
      "Wow... Loved this place.  >>  ['wow', 'love', 'place']\n",
      "Crust is not good.  >>  ['crust', 'bad']\n",
      "Not tasty and the texture was just nasty.  >>  ['bland', 'textur', 'nasti']\n"
     ]
    }
   ],
   "source": [
    "import string\n",
    "from tkinter import W\n",
    "from nltk.tokenize import word_tokenize\n",
    "from nltk.corpus import stopwords\n",
    "from nltk.stem import PorterStemmer\n",
    "\n",
    "sentence_all = list()\n",
    "lines = reviews.to_list()\n",
    "\n",
    "#lines = [\"Program programmer AND Programming ... programmed\"]\n",
    "\n",
    "for line in lines:\n",
    "    tokens = word_tokenize(line) #TOKENIZATION\n",
    "    tokens = [w.lower() for w in tokens] #TO LOWERCASE\n",
    "    table = str.maketrans('','',string.punctuation) #PUNCTUATION REMOVAL\n",
    "    stripped = [w.translate(table) for w in tokens] #STRIPPING\n",
    "    words = [word for word in stripped if word.isalpha()] #STRIPPING\n",
    "\n",
    "    words = handle_not(words)\n",
    "\n",
    "    stop_words = set(stopwords.words(\"english\")) #STOPWORD REMOVAL\n",
    "    words = [w for w in words if not w in stop_words] #STOPWORD REMOVAL\n",
    "\n",
    "    for w,i in zip(words,range(0,len(words))): #Stemming\n",
    "        w = PorterStemmer().stem(w)\n",
    "        words[i] = w\n",
    "\n",
    "    sentence_all.append(words)\n",
    "\n",
    "print(reviews[0],\" >> \",sentence_all[0])\n",
    "print(reviews[1],\" >> \",sentence_all[1])\n",
    "print(reviews[2],\" >> \",sentence_all[2])"
   ]
  },
  {
   "cell_type": "markdown",
   "metadata": {},
   "source": [
    "Vectorization & Vocabulary"
   ]
  },
  {
   "cell_type": "code",
   "execution_count": 16,
   "metadata": {},
   "outputs": [
    {
     "name": "stdout",
     "output_type": "stream",
     "text": [
      "Vocabulary size: 1572\n"
     ]
    }
   ],
   "source": [
    "import gensim\n",
    "\n",
    "embedding_dim = 50\n",
    "model = gensim.models.Word2Vec(sentences=sentence_all,vector_size=embedding_dim,window=5,workers=4,min_count=1)\n",
    "words = len(model.wv)\n",
    "print(\"Vocabulary size: %d\"%(words))\n",
    "model.wv.save_word2vec_format(\"embed.txt\",binary=False)"
   ]
  },
  {
   "cell_type": "code",
   "execution_count": 17,
   "metadata": {},
   "outputs": [],
   "source": [
    "with open('embed.txt') as f:\n",
    "    lines = f.readlines()"
   ]
  },
  {
   "cell_type": "markdown",
   "metadata": {},
   "source": [
    "Vocabulary for String Mathcing Script"
   ]
  },
  {
   "cell_type": "code",
   "execution_count": 18,
   "metadata": {},
   "outputs": [
    {
     "data": {
      "text/html": [
       "<div>\n",
       "<style scoped>\n",
       "    .dataframe tbody tr th:only-of-type {\n",
       "        vertical-align: middle;\n",
       "    }\n",
       "\n",
       "    .dataframe tbody tr th {\n",
       "        vertical-align: top;\n",
       "    }\n",
       "\n",
       "    .dataframe thead th {\n",
       "        text-align: right;\n",
       "    }\n",
       "</style>\n",
       "<table border=\"1\" class=\"dataframe\">\n",
       "  <thead>\n",
       "    <tr style=\"text-align: right;\">\n",
       "      <th></th>\n",
       "      <th>vocabulary</th>\n",
       "    </tr>\n",
       "  </thead>\n",
       "  <tbody>\n",
       "    <tr>\n",
       "      <th>1</th>\n",
       "      <td>food</td>\n",
       "    </tr>\n",
       "    <tr>\n",
       "      <th>2</th>\n",
       "      <td>place</td>\n",
       "    </tr>\n",
       "    <tr>\n",
       "      <th>3</th>\n",
       "      <td>nt</td>\n",
       "    </tr>\n",
       "    <tr>\n",
       "      <th>4</th>\n",
       "      <td>good</td>\n",
       "    </tr>\n",
       "    <tr>\n",
       "      <th>5</th>\n",
       "      <td>servic</td>\n",
       "    </tr>\n",
       "  </tbody>\n",
       "</table>\n",
       "</div>"
      ],
      "text/plain": [
       "  vocabulary\n",
       "1       food\n",
       "2      place\n",
       "3         nt\n",
       "4       good\n",
       "5     servic"
      ]
     },
     "execution_count": 18,
     "metadata": {},
     "output_type": "execute_result"
    }
   ],
   "source": [
    "vocabulary = []\n",
    "for line in lines:\n",
    "    line = word_tokenize(line)\n",
    "    vocabulary.append(line[0])\n",
    "\n",
    "vocab = {\"vocabulary\":vocabulary}\n",
    "df_vocabulary = pd.DataFrame(vocab)\n",
    "df_vocabulary = df_vocabulary.drop(0)\n",
    "df_vocabulary.head()\n",
    "\n",
    "#df_vocabulary.to_csv(\"vocabulary.csv\",index=False)"
   ]
  },
  {
   "cell_type": "markdown",
   "metadata": {},
   "source": [
    "Index Generation"
   ]
  },
  {
   "cell_type": "code",
   "execution_count": 19,
   "metadata": {},
   "outputs": [],
   "source": [
    "import os\n",
    "import numpy as np\n",
    "\n",
    "embedding_index = {}\n",
    "f = open(os.path.join('',\"embed.txt\"))\n",
    "\n",
    "for line in f:\n",
    "    values = line.split()\n",
    "    word = values[0]\n",
    "    coefs = np.asarray(values[1:])\n",
    "    embedding_index[word] = coefs\n",
    "\n",
    "f.close()"
   ]
  },
  {
   "cell_type": "code",
   "execution_count": 20,
   "metadata": {},
   "outputs": [
    {
     "name": "stdout",
     "output_type": "stream",
     "text": [
      "Unique tokens:1572\n",
      "['wow', 'love', 'place']\n",
      "[344, 12, 2]\n"
     ]
    }
   ],
   "source": [
    "from keras.preprocessing.text import Tokenizer\n",
    "\n",
    "tokenizer = Tokenizer()\n",
    "tokenizer.fit_on_texts(sentence_all)\n",
    "\n",
    "sentences = tokenizer.texts_to_sequences(sentence_all)\n",
    "\n",
    "word_index = tokenizer.word_index\n",
    "print(\"Unique tokens:%d\"%len(word_index))\n",
    "print(sentence_all[0])\n",
    "print(sentences[0])"
   ]
  },
  {
   "cell_type": "markdown",
   "metadata": {},
   "source": [
    "Padding"
   ]
  },
  {
   "cell_type": "code",
   "execution_count": 22,
   "metadata": {},
   "outputs": [
    {
     "name": "stdout",
     "output_type": "stream",
     "text": [
      "Maxlen: 18\n",
      "Shape :  (997, 18)\n"
     ]
    }
   ],
   "source": [
    "from tensorflow.keras.preprocessing.sequence import pad_sequences\n",
    "\n",
    "maxlen = max([len(x) for x in sentences])\n",
    "print(\"Maxlen:\",maxlen)\n",
    "\n",
    "sentences = pad_sequences(sentences, padding='post',maxlen=maxlen)\n",
    "print(\"Shape : \", sentences.shape)"
   ]
  },
  {
   "cell_type": "markdown",
   "metadata": {},
   "source": [
    "Train Test Split"
   ]
  },
  {
   "cell_type": "code",
   "execution_count": 23,
   "metadata": {},
   "outputs": [
    {
     "name": "stdout",
     "output_type": "stream",
     "text": [
      "(697, 18) (300, 18)\n",
      "(697,) (300,)\n"
     ]
    }
   ],
   "source": [
    "from sklearn.model_selection import train_test_split\n",
    "\n",
    "xTrain, xTest, yTrain, yTest = train_test_split(sentences, opinion, test_size=0.3)\n",
    "print(xTrain.shape,xTest.shape)\n",
    "print(yTrain.shape,yTest.shape)"
   ]
  },
  {
   "cell_type": "code",
   "execution_count": 24,
   "metadata": {},
   "outputs": [
    {
     "name": "stdout",
     "output_type": "stream",
     "text": [
      "[1. 0.]\n",
      "[1. 0.]\n"
     ]
    }
   ],
   "source": [
    "from tensorflow.keras.utils import to_categorical\n",
    "\n",
    "yTrain = to_categorical(yTrain)\n",
    "yTest = to_categorical(yTest)\n",
    "\n",
    "print(yTrain[0])\n",
    "print(yTest[0])"
   ]
  },
  {
   "cell_type": "markdown",
   "metadata": {},
   "source": [
    "Neural Network Construction"
   ]
  },
  {
   "cell_type": "code",
   "execution_count": 50,
   "metadata": {},
   "outputs": [
    {
     "name": "stdout",
     "output_type": "stream",
     "text": [
      "Model: \"sequential_7\"\n",
      "_________________________________________________________________\n",
      " Layer (type)                Output Shape              Param #   \n",
      "=================================================================\n",
      " embedding_7 (Embedding)     (None, 18, 50)            78650     \n",
      "                                                                 \n",
      " lstm_7 (LSTM)               (None, 48)                19008     \n",
      "                                                                 \n",
      " dense_14 (Dense)            (None, 48)                2352      \n",
      "                                                                 \n",
      " dropout_7 (Dropout)         (None, 48)                0         \n",
      "                                                                 \n",
      " dense_15 (Dense)            (None, 2)                 98        \n",
      "                                                                 \n",
      "=================================================================\n",
      "Total params: 100,108\n",
      "Trainable params: 21,458\n",
      "Non-trainable params: 78,650\n",
      "_________________________________________________________________\n"
     ]
    }
   ],
   "source": [
    "from keras.models import Sequential\n",
    "from keras.layers import *\n",
    "from keras.regularizers import l1,l2 \n",
    "from keras.initializers import Constant\n",
    "\n",
    "d_rate = 0.6\n",
    "r_factor = 0.1\n",
    "\n",
    "model = Sequential()\n",
    "model.add(Embedding((len(word_index)+1), embedding_dim,input_length=maxlen,trainable=False))\n",
    "model.add(LSTM(48))\n",
    "model.add(Dense(48,activation=\"relu\",bias_regularizer=l2(r_factor)))\n",
    "model.add(Dropout(d_rate))\n",
    "model.add(Dense(2,activation=\"sigmoid\"))\n",
    "\n",
    "model.summary()"
   ]
  },
  {
   "cell_type": "code",
   "execution_count": 51,
   "metadata": {},
   "outputs": [
    {
     "name": "stdout",
     "output_type": "stream",
     "text": [
      "Epoch 1/50\n",
      "22/22 [==============================] - 4s 41ms/step - loss: 0.6934 - accuracy: 0.4964 - val_loss: 0.6948 - val_accuracy: 0.4633\n",
      "Epoch 2/50\n",
      "22/22 [==============================] - 0s 12ms/step - loss: 0.6924 - accuracy: 0.5165 - val_loss: 0.6957 - val_accuracy: 0.4633\n",
      "Epoch 3/50\n",
      "22/22 [==============================] - 0s 12ms/step - loss: 0.6929 - accuracy: 0.5165 - val_loss: 0.6965 - val_accuracy: 0.4633\n",
      "Epoch 4/50\n",
      "22/22 [==============================] - 0s 18ms/step - loss: 0.6927 - accuracy: 0.5165 - val_loss: 0.6963 - val_accuracy: 0.4633\n",
      "Epoch 5/50\n",
      "22/22 [==============================] - 0s 14ms/step - loss: 0.6937 - accuracy: 0.5165 - val_loss: 0.6944 - val_accuracy: 0.4600\n",
      "Epoch 6/50\n",
      "22/22 [==============================] - 0s 13ms/step - loss: 0.6930 - accuracy: 0.5179 - val_loss: 0.6943 - val_accuracy: 0.4633\n",
      "Epoch 7/50\n",
      "22/22 [==============================] - 0s 16ms/step - loss: 0.6923 - accuracy: 0.5151 - val_loss: 0.6948 - val_accuracy: 0.4600\n",
      "Epoch 8/50\n",
      "22/22 [==============================] - 0s 22ms/step - loss: 0.6928 - accuracy: 0.5222 - val_loss: 0.6945 - val_accuracy: 0.4600\n",
      "Epoch 9/50\n",
      "22/22 [==============================] - 1s 27ms/step - loss: 0.6918 - accuracy: 0.5251 - val_loss: 0.6957 - val_accuracy: 0.4833\n",
      "Epoch 10/50\n",
      "22/22 [==============================] - 0s 15ms/step - loss: 0.6905 - accuracy: 0.5265 - val_loss: 0.6935 - val_accuracy: 0.5067\n",
      "Epoch 11/50\n",
      "22/22 [==============================] - 1s 28ms/step - loss: 0.6863 - accuracy: 0.5638 - val_loss: 0.6805 - val_accuracy: 0.5367\n",
      "Epoch 12/50\n",
      "22/22 [==============================] - 0s 21ms/step - loss: 0.6803 - accuracy: 0.5681 - val_loss: 0.6670 - val_accuracy: 0.5667\n",
      "Epoch 13/50\n",
      "22/22 [==============================] - 0s 15ms/step - loss: 0.6620 - accuracy: 0.6542 - val_loss: 0.6455 - val_accuracy: 0.6300\n",
      "Epoch 14/50\n",
      "22/22 [==============================] - 0s 14ms/step - loss: 0.6550 - accuracy: 0.6155 - val_loss: 0.6657 - val_accuracy: 0.6033\n",
      "Epoch 15/50\n",
      "22/22 [==============================] - 0s 14ms/step - loss: 0.6294 - accuracy: 0.6542 - val_loss: 0.6408 - val_accuracy: 0.6433\n",
      "Epoch 16/50\n",
      "22/22 [==============================] - 0s 15ms/step - loss: 0.6348 - accuracy: 0.6399 - val_loss: 0.6418 - val_accuracy: 0.6500\n",
      "Epoch 17/50\n",
      "22/22 [==============================] - 0s 13ms/step - loss: 0.6090 - accuracy: 0.6958 - val_loss: 0.6378 - val_accuracy: 0.6633\n",
      "Epoch 18/50\n",
      "22/22 [==============================] - 0s 13ms/step - loss: 0.6274 - accuracy: 0.6729 - val_loss: 0.6379 - val_accuracy: 0.6700\n",
      "Epoch 19/50\n",
      "22/22 [==============================] - 0s 14ms/step - loss: 0.5909 - accuracy: 0.7073 - val_loss: 0.6527 - val_accuracy: 0.6333\n",
      "Epoch 20/50\n",
      "22/22 [==============================] - 0s 18ms/step - loss: 0.6104 - accuracy: 0.7145 - val_loss: 0.6693 - val_accuracy: 0.6367\n",
      "Epoch 21/50\n",
      "22/22 [==============================] - 0s 13ms/step - loss: 0.6001 - accuracy: 0.7088 - val_loss: 0.6421 - val_accuracy: 0.6567\n",
      "Epoch 22/50\n",
      "22/22 [==============================] - 0s 14ms/step - loss: 0.6089 - accuracy: 0.7016 - val_loss: 0.6372 - val_accuracy: 0.6467\n",
      "Epoch 23/50\n",
      "22/22 [==============================] - 0s 13ms/step - loss: 0.6001 - accuracy: 0.7016 - val_loss: 0.6380 - val_accuracy: 0.6700\n",
      "Epoch 24/50\n",
      "22/22 [==============================] - 0s 14ms/step - loss: 0.6113 - accuracy: 0.6987 - val_loss: 0.6540 - val_accuracy: 0.6333\n",
      "Epoch 25/50\n",
      "22/22 [==============================] - 0s 13ms/step - loss: 0.5887 - accuracy: 0.7088 - val_loss: 0.6456 - val_accuracy: 0.6800\n",
      "Epoch 26/50\n",
      "22/22 [==============================] - 0s 13ms/step - loss: 0.5912 - accuracy: 0.7102 - val_loss: 0.6644 - val_accuracy: 0.6367\n",
      "Epoch 27/50\n",
      "22/22 [==============================] - 0s 13ms/step - loss: 0.5895 - accuracy: 0.6987 - val_loss: 0.6524 - val_accuracy: 0.6533\n",
      "Epoch 28/50\n",
      "22/22 [==============================] - 0s 14ms/step - loss: 0.5861 - accuracy: 0.7131 - val_loss: 0.6936 - val_accuracy: 0.6367\n",
      "Epoch 29/50\n",
      "22/22 [==============================] - 0s 14ms/step - loss: 0.5911 - accuracy: 0.7131 - val_loss: 0.6842 - val_accuracy: 0.6300\n",
      "Epoch 30/50\n",
      "22/22 [==============================] - 0s 16ms/step - loss: 0.5949 - accuracy: 0.7102 - val_loss: 0.6463 - val_accuracy: 0.6733\n",
      "Epoch 31/50\n",
      "22/22 [==============================] - 0s 13ms/step - loss: 0.5846 - accuracy: 0.7188 - val_loss: 0.6503 - val_accuracy: 0.6700\n",
      "Epoch 32/50\n",
      "22/22 [==============================] - 0s 12ms/step - loss: 0.6022 - accuracy: 0.7131 - val_loss: 0.6411 - val_accuracy: 0.6400\n",
      "Epoch 33/50\n",
      "22/22 [==============================] - 0s 13ms/step - loss: 0.5940 - accuracy: 0.7044 - val_loss: 0.6391 - val_accuracy: 0.6567\n",
      "Epoch 34/50\n",
      "22/22 [==============================] - 0s 13ms/step - loss: 0.5785 - accuracy: 0.7217 - val_loss: 0.6558 - val_accuracy: 0.6633\n",
      "Epoch 35/50\n",
      "22/22 [==============================] - 0s 13ms/step - loss: 0.5709 - accuracy: 0.7231 - val_loss: 0.6734 - val_accuracy: 0.6667\n",
      "Epoch 36/50\n",
      "22/22 [==============================] - 0s 14ms/step - loss: 0.5768 - accuracy: 0.7145 - val_loss: 0.6774 - val_accuracy: 0.6600\n",
      "Epoch 37/50\n",
      "22/22 [==============================] - 0s 14ms/step - loss: 0.5775 - accuracy: 0.6987 - val_loss: 0.6613 - val_accuracy: 0.6700\n",
      "Epoch 38/50\n",
      "22/22 [==============================] - 0s 14ms/step - loss: 0.5597 - accuracy: 0.7159 - val_loss: 0.6605 - val_accuracy: 0.6333\n",
      "Epoch 39/50\n",
      "22/22 [==============================] - 0s 13ms/step - loss: 0.5761 - accuracy: 0.7088 - val_loss: 0.6453 - val_accuracy: 0.6433\n",
      "Epoch 40/50\n",
      "22/22 [==============================] - 0s 20ms/step - loss: 0.5686 - accuracy: 0.7073 - val_loss: 0.6725 - val_accuracy: 0.6433\n",
      "Epoch 41/50\n",
      "22/22 [==============================] - 0s 17ms/step - loss: 0.5654 - accuracy: 0.7131 - val_loss: 0.6798 - val_accuracy: 0.6433\n",
      "Epoch 42/50\n",
      "22/22 [==============================] - 0s 18ms/step - loss: 0.5780 - accuracy: 0.7030 - val_loss: 0.6640 - val_accuracy: 0.6367\n",
      "Epoch 43/50\n",
      "22/22 [==============================] - 0s 14ms/step - loss: 0.5600 - accuracy: 0.7174 - val_loss: 0.6668 - val_accuracy: 0.6500\n",
      "Epoch 44/50\n",
      "22/22 [==============================] - 0s 15ms/step - loss: 0.5610 - accuracy: 0.7217 - val_loss: 0.6708 - val_accuracy: 0.6300\n",
      "Epoch 45/50\n",
      "22/22 [==============================] - 1s 24ms/step - loss: 0.5467 - accuracy: 0.7317 - val_loss: 0.6821 - val_accuracy: 0.6433\n",
      "Epoch 46/50\n",
      "22/22 [==============================] - 1s 35ms/step - loss: 0.5482 - accuracy: 0.7274 - val_loss: 0.6840 - val_accuracy: 0.6433\n",
      "Epoch 47/50\n",
      "22/22 [==============================] - 0s 20ms/step - loss: 0.5402 - accuracy: 0.7403 - val_loss: 0.6837 - val_accuracy: 0.6533\n",
      "Epoch 48/50\n",
      "22/22 [==============================] - 0s 19ms/step - loss: 0.5511 - accuracy: 0.7317 - val_loss: 0.6586 - val_accuracy: 0.6533\n",
      "Epoch 49/50\n",
      "22/22 [==============================] - 0s 12ms/step - loss: 0.5366 - accuracy: 0.7604 - val_loss: 0.7197 - val_accuracy: 0.6400\n",
      "Epoch 50/50\n",
      "22/22 [==============================] - 0s 14ms/step - loss: 0.5272 - accuracy: 0.7532 - val_loss: 0.7051 - val_accuracy: 0.6500\n"
     ]
    }
   ],
   "source": [
    "model.compile(optimizer='adam',loss='binary_crossentropy',metrics=['accuracy'])\n",
    "model_history = model.fit(xTrain,yTrain,epochs=50,validation_data=(xTest,yTest))"
   ]
  },
  {
   "cell_type": "code",
   "execution_count": 53,
   "metadata": {},
   "outputs": [
    {
     "data": {
      "image/png": "[encoded data removed]",
      "text/plain": [
       "<Figure size 1200x600 with 2 Axes>"
      ]
     },
     "metadata": {},
     "output_type": "display_data"
    }
   ],
   "source": [
    "import matplotlib.pyplot as plt\n",
    "\n",
    "trainLoss = model_history.history[\"loss\"]\n",
    "valLoss = model_history.history[\"val_loss\"]\n",
    "trainAccuracy = model_history.history[\"accuracy\"]\n",
    "valAccuracy = model_history.history[\"val_accuracy\"]\n",
    "\n",
    "plt.figure(figsize=(12,6))\n",
    "\n",
    "plt.subplot(1,2,1)\n",
    "plt.plot(trainLoss, \"r\",label=\"Training Loss\")\n",
    "plt.plot(valLoss, \"b\", label=\"Validation Loss\")\n",
    "plt.ylim(0.45,0.80)\n",
    "plt.title(\"Training and Validation Loss\")\n",
    "plt.xlabel(\"Epoch\")\n",
    "plt.ylabel(\"Loss Value\")\n",
    "plt.legend()\n",
    "\n",
    "plt.subplot(1,2,2)\n",
    "plt.plot(trainAccuracy, \"r\",label=\"Training Accuracy\")\n",
    "plt.plot(valAccuracy, \"b\", label=\"Validation Accuracy\")\n",
    "plt.ylim(0.45,0.80)\n",
    "plt.title(\"Training and Validation Accuracy\")\n",
    "plt.xlabel(\"Epoch\")\n",
    "plt.ylabel(\"Accuracy\")\n",
    "plt.legend()\n",
    "\n",
    "plt.show()"
   ]
  },
  {
   "cell_type": "code",
   "execution_count": 31,
   "metadata": {},
   "outputs": [
    {
     "name": "stdout",
     "output_type": "stream",
     "text": [
      "10/10 [==============================] - 1s 4ms/step\n"
     ]
    },
    {
     "data": {
      "text/plain": [
       "Text(0.5, 1.0, 'ROC Curve')"
      ]
     },
     "execution_count": 31,
     "metadata": {},
     "output_type": "execute_result"
    },
    {
     "data": {
      "image/png": "[encoded data removed]",
      "text/plain": [
       "<Figure size 640x480 with 1 Axes>"
      ]
     },
     "metadata": {},
     "output_type": "display_data"
    }
   ],
   "source": [
    "from sklearn.metrics import roc_curve\n",
    "\n",
    "yPred = model.predict(xTest)\n",
    "\n",
    "fpr, tpr, thresholds = roc_curve(yTest.ravel(),yPred.ravel())\n",
    "plt.plot(fpr,tpr)\n",
    "plt.xlabel(\"False Positive Rate\")\n",
    "plt.xlabel(\"False Positive Rate\")\n",
    "plt.title(\"ROC Curve\")"
   ]
  }
 ],
 "metadata": {
  "kernelspec": {
   "display_name": "Python 3.10.7 64-bit",
   "language": "python",
   "name": "python3"
  },
  "language_info": {
   "codemirror_mode": {
    "name": "ipython",
    "version": 3
   },
   "file_extension": ".py",
   "mimetype": "text/x-python",
   "name": "python",
   "nbconvert_exporter": "python",
   "pygments_lexer": "ipython3",
   "version": "3.10.7"
  },
  "orig_nbformat": 4,
  "vscode": {
   "interpreter": {
    "hash": "bcf76d94f5b8b28f3dd69206380c74a29b1a182d1f2d629c955f29cd9944fd60"
   }
  }
 },
 "nbformat": 4,
 "nbformat_minor": 2
}
