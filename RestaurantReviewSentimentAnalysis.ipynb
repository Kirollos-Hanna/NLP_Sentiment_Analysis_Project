{
 "cells": [
  {
   "cell_type": "code",
   "execution_count": 77,
   "id": "7575a5f6-1d87-41dd-a7aa-db0f624e54af",
   "metadata": {},
   "outputs": [],
   "source": [
    "# Import required libraries\n",
    "import nltk\n",
    "import numpy as np\n",
    "import pandas\n",
    "import matplotlib.pyplot as plt\n",
    "from textblob import TextBlob"
   ]
  },
  {
   "cell_type": "markdown",
   "id": "c391d82f-96a7-4122-9b66-52159d2c26c8",
   "metadata": {},
   "source": [
    "## Textblob Implementation"
   ]
  },
  {
   "cell_type": "code",
   "execution_count": 78,
   "id": "700c2581-1dc1-4636-a576-3298477f42bf",
   "metadata": {},
   "outputs": [
    {
     "data": {
      "text/html": [
       "<div>\n",
       "<style scoped>\n",
       "    .dataframe tbody tr th:only-of-type {\n",
       "        vertical-align: middle;\n",
       "    }\n",
       "\n",
       "    .dataframe tbody tr th {\n",
       "        vertical-align: top;\n",
       "    }\n",
       "\n",
       "    .dataframe thead th {\n",
       "        text-align: right;\n",
       "    }\n",
       "</style>\n",
       "<table border=\"1\" class=\"dataframe\">\n",
       "  <thead>\n",
       "    <tr style=\"text-align: right;\">\n",
       "      <th></th>\n",
       "      <th>Review</th>\n",
       "      <th>Liked</th>\n",
       "    </tr>\n",
       "  </thead>\n",
       "  <tbody>\n",
       "    <tr>\n",
       "      <th>0</th>\n",
       "      <td>Wow... Loved this place.</td>\n",
       "      <td>1</td>\n",
       "    </tr>\n",
       "    <tr>\n",
       "      <th>1</th>\n",
       "      <td>Crust is not good.</td>\n",
       "      <td>0</td>\n",
       "    </tr>\n",
       "    <tr>\n",
       "      <th>2</th>\n",
       "      <td>Not tasty and the texture was just nasty.</td>\n",
       "      <td>0</td>\n",
       "    </tr>\n",
       "    <tr>\n",
       "      <th>3</th>\n",
       "      <td>Stopped by during the late May bank holiday of...</td>\n",
       "      <td>1</td>\n",
       "    </tr>\n",
       "    <tr>\n",
       "      <th>4</th>\n",
       "      <td>The selection on the menu was great and so wer...</td>\n",
       "      <td>1</td>\n",
       "    </tr>\n",
       "  </tbody>\n",
       "</table>\n",
       "</div>"
      ],
      "text/plain": [
       "                                              Review  Liked\n",
       "0                           Wow... Loved this place.      1\n",
       "1                                 Crust is not good.      0\n",
       "2          Not tasty and the texture was just nasty.      0\n",
       "3  Stopped by during the late May bank holiday of...      1\n",
       "4  The selection on the menu was great and so wer...      1"
      ]
     },
     "execution_count": 78,
     "metadata": {},
     "output_type": "execute_result"
    }
   ],
   "source": [
    "# read the data into a pandas dataframe\n",
    "restaurant_reviews = pandas.read_csv('Restaurant_Reviews.tsv',sep='\\t')\n",
    "restaurant_reviews.head()"
   ]
  },
  {
   "cell_type": "code",
   "execution_count": 79,
   "id": "f2328edc-f6f6-4910-9191-ea4c17097411",
   "metadata": {},
   "outputs": [
    {
     "name": "stdout",
     "output_type": "stream",
     "text": [
      "Positive Accuracy is 78.8%\n",
      "Negative Accuracy is 76.0%\n"
     ]
    }
   ],
   "source": [
    "# Check the accuracy between liked column and the textblob results\n",
    "pos_acc = 0\n",
    "neg_acc = 0\n",
    "\n",
    "for ind, review in restaurant_reviews.iterrows():\n",
    "    analysis = TextBlob(review[\"Review\"])\n",
    "    if analysis.sentiment.polarity > 0:\n",
    "        pos_acc = pos_acc+1 if review[\"Liked\"] == 1 else pos_acc\n",
    "            \n",
    "    if analysis.sentiment.polarity <= 0:\n",
    "        neg_acc = neg_acc+1 if review[\"Liked\"] == 0 else neg_acc\n",
    "\n",
    "all_pos = restaurant_reviews[restaurant_reviews['Liked']== 0].shape[0]\n",
    "all_neg = restaurant_reviews[restaurant_reviews['Liked']== 1].shape[0]\n",
    "print(\"Positive Accuracy is {}%\".format(pos_acc/all_pos*100))\n",
    "print(\"Negative Accuracy is {}%\".format(neg_acc/all_neg*100))"
   ]
  },
  {
   "cell_type": "code",
   "execution_count": 80,
   "id": "591df613-66ad-4b19-9ed8-4e39ce83b1dc",
   "metadata": {},
   "outputs": [
    {
     "data": {
      "text/html": [
       "<div>\n",
       "<style scoped>\n",
       "    .dataframe tbody tr th:only-of-type {\n",
       "        vertical-align: middle;\n",
       "    }\n",
       "\n",
       "    .dataframe tbody tr th {\n",
       "        vertical-align: top;\n",
       "    }\n",
       "\n",
       "    .dataframe thead th {\n",
       "        text-align: right;\n",
       "    }\n",
       "</style>\n",
       "<table border=\"1\" class=\"dataframe\">\n",
       "  <thead>\n",
       "    <tr style=\"text-align: right;\">\n",
       "      <th></th>\n",
       "      <th>Review</th>\n",
       "      <th>Liked</th>\n",
       "      <th>Textblob_Rating</th>\n",
       "    </tr>\n",
       "  </thead>\n",
       "  <tbody>\n",
       "    <tr>\n",
       "      <th>0</th>\n",
       "      <td>Wow... Loved this place.</td>\n",
       "      <td>1</td>\n",
       "      <td>1</td>\n",
       "    </tr>\n",
       "    <tr>\n",
       "      <th>1</th>\n",
       "      <td>Crust is not good.</td>\n",
       "      <td>0</td>\n",
       "      <td>0</td>\n",
       "    </tr>\n",
       "    <tr>\n",
       "      <th>2</th>\n",
       "      <td>Not tasty and the texture was just nasty.</td>\n",
       "      <td>0</td>\n",
       "      <td>0</td>\n",
       "    </tr>\n",
       "    <tr>\n",
       "      <th>3</th>\n",
       "      <td>Stopped by during the late May bank holiday of...</td>\n",
       "      <td>1</td>\n",
       "      <td>1</td>\n",
       "    </tr>\n",
       "    <tr>\n",
       "      <th>4</th>\n",
       "      <td>The selection on the menu was great and so wer...</td>\n",
       "      <td>1</td>\n",
       "      <td>1</td>\n",
       "    </tr>\n",
       "    <tr>\n",
       "      <th>...</th>\n",
       "      <td>...</td>\n",
       "      <td>...</td>\n",
       "      <td>...</td>\n",
       "    </tr>\n",
       "    <tr>\n",
       "      <th>995</th>\n",
       "      <td>I think food should have flavor and texture an...</td>\n",
       "      <td>0</td>\n",
       "      <td>0</td>\n",
       "    </tr>\n",
       "    <tr>\n",
       "      <th>996</th>\n",
       "      <td>Appetite instantly gone.</td>\n",
       "      <td>0</td>\n",
       "      <td>0</td>\n",
       "    </tr>\n",
       "    <tr>\n",
       "      <th>997</th>\n",
       "      <td>Overall I was not impressed and would not go b...</td>\n",
       "      <td>0</td>\n",
       "      <td>0</td>\n",
       "    </tr>\n",
       "    <tr>\n",
       "      <th>998</th>\n",
       "      <td>The whole experience was underwhelming, and I ...</td>\n",
       "      <td>0</td>\n",
       "      <td>1</td>\n",
       "    </tr>\n",
       "    <tr>\n",
       "      <th>999</th>\n",
       "      <td>Then, as if I hadn't wasted enough of my life ...</td>\n",
       "      <td>0</td>\n",
       "      <td>0</td>\n",
       "    </tr>\n",
       "  </tbody>\n",
       "</table>\n",
       "<p>1000 rows × 3 columns</p>\n",
       "</div>"
      ],
      "text/plain": [
       "                                                Review  Liked  Textblob_Rating\n",
       "0                             Wow... Loved this place.      1                1\n",
       "1                                   Crust is not good.      0                0\n",
       "2            Not tasty and the texture was just nasty.      0                0\n",
       "3    Stopped by during the late May bank holiday of...      1                1\n",
       "4    The selection on the menu was great and so wer...      1                1\n",
       "..                                                 ...    ...              ...\n",
       "995  I think food should have flavor and texture an...      0                0\n",
       "996                           Appetite instantly gone.      0                0\n",
       "997  Overall I was not impressed and would not go b...      0                0\n",
       "998  The whole experience was underwhelming, and I ...      0                1\n",
       "999  Then, as if I hadn't wasted enough of my life ...      0                0\n",
       "\n",
       "[1000 rows x 3 columns]"
      ]
     },
     "execution_count": 80,
     "metadata": {},
     "output_type": "execute_result"
    }
   ],
   "source": [
    "# Add the textblob sentiment as an extra column to the reviews dataframe\n",
    "textblob_ratings = []\n",
    "for ind, review in restaurant_reviews.iterrows():\n",
    "    analysis = TextBlob(review[\"Review\"])\n",
    "    if analysis.sentiment.polarity > 0:\n",
    "        textblob_ratings.append(1)\n",
    "            \n",
    "    if analysis.sentiment.polarity <= 0:\n",
    "        textblob_ratings.append(0)\n",
    "\n",
    "if 'Textblob_Rating' not in restaurant_reviews.columns:\n",
    "    restaurant_reviews.insert(2, \"Textblob_Rating\", textblob_ratings, True)\n",
    "restaurant_reviews"
   ]
  },
  {
   "cell_type": "code",
   "execution_count": 81,
   "id": "0611791f-f928-4293-b4f4-f6bb0aceaa96",
   "metadata": {},
   "outputs": [
    {
     "name": "stdout",
     "output_type": "stream",
     "text": [
      "The pearson correlation between the Liked and Textblob_Rating columns is equal to 0.5482149423943883\n"
     ]
    },
    {
     "data": {
      "text/html": [
       "<div>\n",
       "<style scoped>\n",
       "    .dataframe tbody tr th:only-of-type {\n",
       "        vertical-align: middle;\n",
       "    }\n",
       "\n",
       "    .dataframe tbody tr th {\n",
       "        vertical-align: top;\n",
       "    }\n",
       "\n",
       "    .dataframe thead th {\n",
       "        text-align: right;\n",
       "    }\n",
       "</style>\n",
       "<table border=\"1\" class=\"dataframe\">\n",
       "  <thead>\n",
       "    <tr style=\"text-align: right;\">\n",
       "      <th></th>\n",
       "      <th>Liked</th>\n",
       "      <th>Textblob_Rating</th>\n",
       "    </tr>\n",
       "  </thead>\n",
       "  <tbody>\n",
       "    <tr>\n",
       "      <th>Liked</th>\n",
       "      <td>1.000000</td>\n",
       "      <td>0.548215</td>\n",
       "    </tr>\n",
       "    <tr>\n",
       "      <th>Textblob_Rating</th>\n",
       "      <td>0.548215</td>\n",
       "      <td>1.000000</td>\n",
       "    </tr>\n",
       "  </tbody>\n",
       "</table>\n",
       "</div>"
      ],
      "text/plain": [
       "                    Liked  Textblob_Rating\n",
       "Liked            1.000000         0.548215\n",
       "Textblob_Rating  0.548215         1.000000"
      ]
     },
     "execution_count": 81,
     "metadata": {},
     "output_type": "execute_result"
    }
   ],
   "source": [
    "# Calculate the pearson correlation between the Liked and Textblob_Rating columns\n",
    "pearson_correlation = restaurant_reviews.corr(method=\"pearson\", numeric_only=True)\n",
    "print(\"The pearson correlation between the Liked and Textblob_Rating columns is equal to {}\"\n",
    "      .format(pearson_correlation.loc['Liked', 'Textblob_Rating']))\n",
    "pearson_correlation"
   ]
  },
  {
   "cell_type": "code",
   "execution_count": 82,
   "id": "5c58f10f-003a-465a-9101-9624545ceab0",
   "metadata": {},
   "outputs": [
    {
     "data": {
      "image/png": "[encoded data removed]",
      "text/plain": [
       "<Figure size 400x400 with 1 Axes>"
      ]
     },
     "metadata": {},
     "output_type": "display_data"
    },
    {
     "data": {
      "image/png": "[encoded data removed]",
      "text/plain": [
       "<Figure size 400x400 with 1 Axes>"
      ]
     },
     "metadata": {},
     "output_type": "display_data"
    }
   ],
   "source": [
    "# Plot the two columns liked and Textblob_Rating\n",
    "restaurant_reviews.plot.hist(column=[\"Liked\"],bins=5, figsize=(4, 4))\n",
    "plt.xticks([0,1], [\"Negative\",\"Positive\"], x=2)\n",
    "\n",
    "bx = restaurant_reviews.plot.hist(column=[\"Textblob_Rating\"],bins=5, figsize=(4, 4))\n",
    "plt.xticks([0,1], [\"Negative\",\"Positive\"], x=2)\n",
    "\n",
    "plt.show()"
   ]
  },
  {
   "cell_type": "markdown",
   "id": "d6e5155f-7fdd-4771-91a8-9e5bbafeede4",
   "metadata": {},
   "source": [
    "## Cosine Similarity Measurement"
   ]
  },
  {
   "cell_type": "code",
   "execution_count": 83,
   "id": "dceb9717-8a12-4267-9a51-7cd9f2bc3d9e",
   "metadata": {},
   "outputs": [
    {
     "data": {
      "image/png": "[encoded data removed]",
      "text/plain": [
       "<Figure size 640x480 with 3 Axes>"
      ]
     },
     "metadata": {},
     "output_type": "display_data"
    }
   ],
   "source": [
    "from scipy.spatial.distance import cdist\n",
    "import matplotlib.gridspec as gridspec\n",
    "\n",
    "positive_reviews = restaurant_reviews.where(restaurant_reviews[\"Liked\"] == 1)\n",
    "positive_reviews = positive_reviews.dropna()\n",
    "\n",
    "negative_reviews = restaurant_reviews.where(restaurant_reviews[\"Liked\"] == 0)\n",
    "negative_reviews = negative_reviews.dropna()\n",
    "\n",
    "# Create 2x2 sub plots\n",
    "gs = gridspec.GridSpec(2, 2)\n",
    "\n",
    "fig = plt.figure()\n",
    "ax1 = fig.add_subplot(gs[0, 0]) # row 0, col 0\n",
    "ax2 = fig.add_subplot(gs[0, 1]) # row 0, col 1\n",
    "ax3 = fig.add_subplot(gs[1, 0]) # row 1, span all columns\n",
    "\n",
    "resulting_similarity_all = 1 - cdist(restaurant_reviews[[\"Liked\",\"Textblob_Rating\"]], restaurant_reviews[[\"Liked\",\"Textblob_Rating\"]],'cosine')\n",
    "for sim in resulting_similarity_all:\n",
    "    ax1.hist(sim[np.isfinite(sim)])\n",
    "ax1.set_title('Cosine similarity of all reviews')\n",
    "    \n",
    "resulting_similarity_positive = 1 - cdist(positive_reviews[[\"Liked\",\"Textblob_Rating\"]], positive_reviews[[\"Liked\",\"Textblob_Rating\"]],'cosine')\n",
    "for sim in resulting_similarity_positive:\n",
    "    ax2.hist(sim[np.isfinite(sim)])\n",
    "ax2.set_title('Cosine similarity of positive reviews')\n",
    "\n",
    "resulting_similarity_negative = 1 - cdist(negative_reviews[[\"Liked\",\"Textblob_Rating\"]], negative_reviews[[\"Liked\",\"Textblob_Rating\"]],'cosine')\n",
    "for sim in resulting_similarity_negative:\n",
    "    ax3.hist(sim[np.isfinite(sim)])\n",
    "ax3.set_title('Cosine similarity of negative reviews')\n",
    "fig.tight_layout()"
   ]
  },
  {
   "cell_type": "markdown",
   "id": "3cd037de-7b7f-42a1-b5a8-28e3585fb038",
   "metadata": {},
   "source": [
    "## Compute the length of each review"
   ]
  },
  {
   "cell_type": "code",
   "execution_count": 84,
   "id": "6ceee6b1-0193-4995-b797-1ae2b47d429a",
   "metadata": {},
   "outputs": [
    {
     "data": {
      "text/html": [
       "<div>\n",
       "<style scoped>\n",
       "    .dataframe tbody tr th:only-of-type {\n",
       "        vertical-align: middle;\n",
       "    }\n",
       "\n",
       "    .dataframe tbody tr th {\n",
       "        vertical-align: top;\n",
       "    }\n",
       "\n",
       "    .dataframe thead th {\n",
       "        text-align: right;\n",
       "    }\n",
       "</style>\n",
       "<table border=\"1\" class=\"dataframe\">\n",
       "  <thead>\n",
       "    <tr style=\"text-align: right;\">\n",
       "      <th></th>\n",
       "      <th>Review</th>\n",
       "      <th>Liked</th>\n",
       "      <th>Textblob_Rating</th>\n",
       "      <th>Review_Length</th>\n",
       "    </tr>\n",
       "  </thead>\n",
       "  <tbody>\n",
       "    <tr>\n",
       "      <th>0</th>\n",
       "      <td>Wow... Loved this place.</td>\n",
       "      <td>1</td>\n",
       "      <td>1</td>\n",
       "      <td>24</td>\n",
       "    </tr>\n",
       "    <tr>\n",
       "      <th>1</th>\n",
       "      <td>Crust is not good.</td>\n",
       "      <td>0</td>\n",
       "      <td>0</td>\n",
       "      <td>18</td>\n",
       "    </tr>\n",
       "    <tr>\n",
       "      <th>2</th>\n",
       "      <td>Not tasty and the texture was just nasty.</td>\n",
       "      <td>0</td>\n",
       "      <td>0</td>\n",
       "      <td>41</td>\n",
       "    </tr>\n",
       "    <tr>\n",
       "      <th>3</th>\n",
       "      <td>Stopped by during the late May bank holiday of...</td>\n",
       "      <td>1</td>\n",
       "      <td>1</td>\n",
       "      <td>87</td>\n",
       "    </tr>\n",
       "    <tr>\n",
       "      <th>4</th>\n",
       "      <td>The selection on the menu was great and so wer...</td>\n",
       "      <td>1</td>\n",
       "      <td>1</td>\n",
       "      <td>59</td>\n",
       "    </tr>\n",
       "    <tr>\n",
       "      <th>...</th>\n",
       "      <td>...</td>\n",
       "      <td>...</td>\n",
       "      <td>...</td>\n",
       "      <td>...</td>\n",
       "    </tr>\n",
       "    <tr>\n",
       "      <th>995</th>\n",
       "      <td>I think food should have flavor and texture an...</td>\n",
       "      <td>0</td>\n",
       "      <td>0</td>\n",
       "      <td>66</td>\n",
       "    </tr>\n",
       "    <tr>\n",
       "      <th>996</th>\n",
       "      <td>Appetite instantly gone.</td>\n",
       "      <td>0</td>\n",
       "      <td>0</td>\n",
       "      <td>24</td>\n",
       "    </tr>\n",
       "    <tr>\n",
       "      <th>997</th>\n",
       "      <td>Overall I was not impressed and would not go b...</td>\n",
       "      <td>0</td>\n",
       "      <td>0</td>\n",
       "      <td>50</td>\n",
       "    </tr>\n",
       "    <tr>\n",
       "      <th>998</th>\n",
       "      <td>The whole experience was underwhelming, and I ...</td>\n",
       "      <td>0</td>\n",
       "      <td>1</td>\n",
       "      <td>91</td>\n",
       "    </tr>\n",
       "    <tr>\n",
       "      <th>999</th>\n",
       "      <td>Then, as if I hadn't wasted enough of my life ...</td>\n",
       "      <td>0</td>\n",
       "      <td>0</td>\n",
       "      <td>134</td>\n",
       "    </tr>\n",
       "  </tbody>\n",
       "</table>\n",
       "<p>1000 rows × 4 columns</p>\n",
       "</div>"
      ],
      "text/plain": [
       "                                                Review  Liked  \\\n",
       "0                             Wow... Loved this place.      1   \n",
       "1                                   Crust is not good.      0   \n",
       "2            Not tasty and the texture was just nasty.      0   \n",
       "3    Stopped by during the late May bank holiday of...      1   \n",
       "4    The selection on the menu was great and so wer...      1   \n",
       "..                                                 ...    ...   \n",
       "995  I think food should have flavor and texture an...      0   \n",
       "996                           Appetite instantly gone.      0   \n",
       "997  Overall I was not impressed and would not go b...      0   \n",
       "998  The whole experience was underwhelming, and I ...      0   \n",
       "999  Then, as if I hadn't wasted enough of my life ...      0   \n",
       "\n",
       "     Textblob_Rating  Review_Length  \n",
       "0                  1             24  \n",
       "1                  0             18  \n",
       "2                  0             41  \n",
       "3                  1             87  \n",
       "4                  1             59  \n",
       "..               ...            ...  \n",
       "995                0             66  \n",
       "996                0             24  \n",
       "997                0             50  \n",
       "998                1             91  \n",
       "999                0            134  \n",
       "\n",
       "[1000 rows x 4 columns]"
      ]
     },
     "execution_count": 84,
     "metadata": {},
     "output_type": "execute_result"
    }
   ],
   "source": [
    "# Add length of each review as a column to the dataframe\n",
    "review_lengths = []\n",
    "for ind, review in restaurant_reviews.iterrows():\n",
    "    review_length = len(review[\"Review\"])\n",
    "    review_lengths.append(review_length)\n",
    "\n",
    "if 'Review_Length' not in restaurant_reviews.columns:\n",
    "    restaurant_reviews.insert(3, \"Review_Length\", review_lengths, True)\n",
    "restaurant_reviews"
   ]
  },
  {
   "cell_type": "code",
   "execution_count": 89,
   "id": "cd3e5d1c-7aa6-43f2-9ad1-6931edd4ca88",
   "metadata": {},
   "outputs": [
    {
     "name": "stdout",
     "output_type": "stream",
     "text": [
      "The pearson correlation between the Liked and Review_length columns is equal to -0.07528475029141274\n"
     ]
    },
    {
     "data": {
      "text/html": [
       "<div>\n",
       "<style scoped>\n",
       "    .dataframe tbody tr th:only-of-type {\n",
       "        vertical-align: middle;\n",
       "    }\n",
       "\n",
       "    .dataframe tbody tr th {\n",
       "        vertical-align: top;\n",
       "    }\n",
       "\n",
       "    .dataframe thead th {\n",
       "        text-align: right;\n",
       "    }\n",
       "</style>\n",
       "<table border=\"1\" class=\"dataframe\">\n",
       "  <thead>\n",
       "    <tr style=\"text-align: right;\">\n",
       "      <th></th>\n",
       "      <th>Liked</th>\n",
       "      <th>Textblob_Rating</th>\n",
       "      <th>Review_Length</th>\n",
       "    </tr>\n",
       "  </thead>\n",
       "  <tbody>\n",
       "    <tr>\n",
       "      <th>Liked</th>\n",
       "      <td>1.000000</td>\n",
       "      <td>0.548215</td>\n",
       "      <td>-0.075285</td>\n",
       "    </tr>\n",
       "    <tr>\n",
       "      <th>Textblob_Rating</th>\n",
       "      <td>0.548215</td>\n",
       "      <td>1.000000</td>\n",
       "      <td>0.122055</td>\n",
       "    </tr>\n",
       "    <tr>\n",
       "      <th>Review_Length</th>\n",
       "      <td>-0.075285</td>\n",
       "      <td>0.122055</td>\n",
       "      <td>1.000000</td>\n",
       "    </tr>\n",
       "  </tbody>\n",
       "</table>\n",
       "</div>"
      ],
      "text/plain": [
       "                    Liked  Textblob_Rating  Review_Length\n",
       "Liked            1.000000         0.548215      -0.075285\n",
       "Textblob_Rating  0.548215         1.000000       0.122055\n",
       "Review_Length   -0.075285         0.122055       1.000000"
      ]
     },
     "execution_count": 89,
     "metadata": {},
     "output_type": "execute_result"
    }
   ],
   "source": [
    "# Calculate the pearson correlation between the Liked and Review_length columns\n",
    "pearson_correlation_review_length = restaurant_reviews.corr(method=\"pearson\", numeric_only=True)\n",
    "print(\"The pearson correlation between the Liked and Review_length columns is equal to {}\"\n",
    "      .format(pearson_correlation_review_length.loc['Liked', 'Review_Length']))\n",
    "pearson_correlation_review_length"
   ]
  },
  {
   "cell_type": "code",
   "execution_count": 92,
   "id": "4160e1e6-fe07-4b87-972c-14339ddb6516",
   "metadata": {},
   "outputs": [
    {
     "data": {
      "image/png": "[encoded data removed]",
      "text/plain": [
       "<Figure size 640x480 with 1 Axes>"
      ]
     },
     "metadata": {},
     "output_type": "display_data"
    }
   ],
   "source": [
    "# Compute the cosine similarity between the Review_Length and the Liked columns\n",
    "gs = gridspec.GridSpec(1, 1)\n",
    "\n",
    "fig = plt.figure()\n",
    "ax1 = fig.add_subplot(gs[0, 0]) # row 0, col 0\n",
    "\n",
    "resulting_similarity_review_length = 1 - cdist(restaurant_reviews[[\"Liked\",\"Review_Length\"]], restaurant_reviews[[\"Liked\",\"Review_Length\"]],'cosine')\n",
    "for sim in resulting_similarity_review_length:\n",
    "    ax1.hist(sim[np.isfinite(sim)])\n",
    "ax1.set_title('Cosine similarity of review length')\n",
    "fig.tight_layout()"
   ]
  },
  {
   "cell_type": "markdown",
   "id": "3f52deca-5b77-4b92-81ac-c277ac428b33",
   "metadata": {},
   "source": [
    "## Identify review based on price, quality of food, quantity of food, and restaurant location"
   ]
  },
  {
   "cell_type": "code",
   "execution_count": null,
   "id": "a46075d5-235a-4657-b1e4-0725b7935dc3",
   "metadata": {},
   "outputs": [],
   "source": []
  }
 ],
 "metadata": {
  "kernelspec": {
   "display_name": "Python 3",
   "language": "python",
   "name": "python3"
  },
  "language_info": {
   "codemirror_mode": {
    "name": "ipython",
    "version": 3
   },
   "file_extension": ".py",
   "mimetype": "text/x-python",
   "name": "python",
   "nbconvert_exporter": "python",
   "pygments_lexer": "ipython3",
   "version": "3.8.0"
  }
 },
 "nbformat": 4,
 "nbformat_minor": 5
}
