{
 "cells": [
  {
   "cell_type": "code",
   "execution_count": 113,
   "id": "7575a5f6-1d87-41dd-a7aa-db0f624e54af",
   "metadata": {},
   "outputs": [],
   "source": [
    "# Import required libraries\n",
    "import nltk\n",
    "import numpy as np\n",
    "import pandas\n",
    "import matplotlib.pyplot as plt\n",
    "from textblob import TextBlob"
   ]
  },
  {
   "cell_type": "markdown",
   "id": "c391d82f-96a7-4122-9b66-52159d2c26c8",
   "metadata": {},
   "source": [
    "## Textblob Implementation"
   ]
  },
  {
   "cell_type": "code",
   "execution_count": 54,
   "id": "700c2581-1dc1-4636-a576-3298477f42bf",
   "metadata": {},
   "outputs": [
    {
     "data": {
      "text/html": [
       "<div>\n",
       "<style scoped>\n",
       "    .dataframe tbody tr th:only-of-type {\n",
       "        vertical-align: middle;\n",
       "    }\n",
       "\n",
       "    .dataframe tbody tr th {\n",
       "        vertical-align: top;\n",
       "    }\n",
       "\n",
       "    .dataframe thead th {\n",
       "        text-align: right;\n",
       "    }\n",
       "</style>\n",
       "<table border=\"1\" class=\"dataframe\">\n",
       "  <thead>\n",
       "    <tr style=\"text-align: right;\">\n",
       "      <th></th>\n",
       "      <th>Review</th>\n",
       "      <th>Liked</th>\n",
       "    </tr>\n",
       "  </thead>\n",
       "  <tbody>\n",
       "    <tr>\n",
       "      <th>0</th>\n",
       "      <td>Wow... Loved this place.</td>\n",
       "      <td>1</td>\n",
       "    </tr>\n",
       "    <tr>\n",
       "      <th>1</th>\n",
       "      <td>Crust is not good.</td>\n",
       "      <td>0</td>\n",
       "    </tr>\n",
       "    <tr>\n",
       "      <th>2</th>\n",
       "      <td>Not tasty and the texture was just nasty.</td>\n",
       "      <td>0</td>\n",
       "    </tr>\n",
       "    <tr>\n",
       "      <th>3</th>\n",
       "      <td>Stopped by during the late May bank holiday of...</td>\n",
       "      <td>1</td>\n",
       "    </tr>\n",
       "    <tr>\n",
       "      <th>4</th>\n",
       "      <td>The selection on the menu was great and so wer...</td>\n",
       "      <td>1</td>\n",
       "    </tr>\n",
       "  </tbody>\n",
       "</table>\n",
       "</div>"
      ],
      "text/plain": [
       "                                              Review  Liked\n",
       "0                           Wow... Loved this place.      1\n",
       "1                                 Crust is not good.      0\n",
       "2          Not tasty and the texture was just nasty.      0\n",
       "3  Stopped by during the late May bank holiday of...      1\n",
       "4  The selection on the menu was great and so wer...      1"
      ]
     },
     "execution_count": 54,
     "metadata": {},
     "output_type": "execute_result"
    }
   ],
   "source": [
    "# read the data into a pandas dataframe\n",
    "restaurant_reviews = pandas.read_csv('Restaurant_Reviews.tsv',sep='\\t')\n",
    "restaurant_reviews.head()"
   ]
  },
  {
   "cell_type": "code",
   "execution_count": 55,
   "id": "f2328edc-f6f6-4910-9191-ea4c17097411",
   "metadata": {},
   "outputs": [
    {
     "name": "stdout",
     "output_type": "stream",
     "text": [
      "Positive Accuracy is 78.8%\n",
      "Negative Accuracy is 76.0%\n"
     ]
    }
   ],
   "source": [
    "# Check the accuracy between liked column and the textblob results\n",
    "pos_acc = 0\n",
    "neg_acc = 0\n",
    "\n",
    "for ind, review in restaurant_reviews.iterrows():\n",
    "    analysis = TextBlob(review[\"Review\"])\n",
    "    if analysis.sentiment.polarity > 0:\n",
    "        pos_acc = pos_acc+1 if review[\"Liked\"] == 1 else pos_acc\n",
    "            \n",
    "    if analysis.sentiment.polarity <= 0:\n",
    "        neg_acc = neg_acc+1 if review[\"Liked\"] == 0 else neg_acc\n",
    "\n",
    "all_pos = restaurant_reviews[restaurant_reviews['Liked']== 0].shape[0]\n",
    "all_neg = restaurant_reviews[restaurant_reviews['Liked']== 1].shape[0]\n",
    "print(\"Positive Accuracy is {}%\".format(pos_acc/all_pos*100))\n",
    "print(\"Negative Accuracy is {}%\".format(neg_acc/all_neg*100))"
   ]
  },
  {
   "cell_type": "code",
   "execution_count": 57,
   "id": "591df613-66ad-4b19-9ed8-4e39ce83b1dc",
   "metadata": {},
   "outputs": [
    {
     "data": {
      "text/html": [
       "<div>\n",
       "<style scoped>\n",
       "    .dataframe tbody tr th:only-of-type {\n",
       "        vertical-align: middle;\n",
       "    }\n",
       "\n",
       "    .dataframe tbody tr th {\n",
       "        vertical-align: top;\n",
       "    }\n",
       "\n",
       "    .dataframe thead th {\n",
       "        text-align: right;\n",
       "    }\n",
       "</style>\n",
       "<table border=\"1\" class=\"dataframe\">\n",
       "  <thead>\n",
       "    <tr style=\"text-align: right;\">\n",
       "      <th></th>\n",
       "      <th>Review</th>\n",
       "      <th>Liked</th>\n",
       "      <th>Textblob_Rating</th>\n",
       "    </tr>\n",
       "  </thead>\n",
       "  <tbody>\n",
       "    <tr>\n",
       "      <th>0</th>\n",
       "      <td>Wow... Loved this place.</td>\n",
       "      <td>1</td>\n",
       "      <td>1</td>\n",
       "    </tr>\n",
       "    <tr>\n",
       "      <th>1</th>\n",
       "      <td>Crust is not good.</td>\n",
       "      <td>0</td>\n",
       "      <td>0</td>\n",
       "    </tr>\n",
       "    <tr>\n",
       "      <th>2</th>\n",
       "      <td>Not tasty and the texture was just nasty.</td>\n",
       "      <td>0</td>\n",
       "      <td>0</td>\n",
       "    </tr>\n",
       "    <tr>\n",
       "      <th>3</th>\n",
       "      <td>Stopped by during the late May bank holiday of...</td>\n",
       "      <td>1</td>\n",
       "      <td>1</td>\n",
       "    </tr>\n",
       "    <tr>\n",
       "      <th>4</th>\n",
       "      <td>The selection on the menu was great and so wer...</td>\n",
       "      <td>1</td>\n",
       "      <td>1</td>\n",
       "    </tr>\n",
       "    <tr>\n",
       "      <th>...</th>\n",
       "      <td>...</td>\n",
       "      <td>...</td>\n",
       "      <td>...</td>\n",
       "    </tr>\n",
       "    <tr>\n",
       "      <th>995</th>\n",
       "      <td>I think food should have flavor and texture an...</td>\n",
       "      <td>0</td>\n",
       "      <td>0</td>\n",
       "    </tr>\n",
       "    <tr>\n",
       "      <th>996</th>\n",
       "      <td>Appetite instantly gone.</td>\n",
       "      <td>0</td>\n",
       "      <td>0</td>\n",
       "    </tr>\n",
       "    <tr>\n",
       "      <th>997</th>\n",
       "      <td>Overall I was not impressed and would not go b...</td>\n",
       "      <td>0</td>\n",
       "      <td>0</td>\n",
       "    </tr>\n",
       "    <tr>\n",
       "      <th>998</th>\n",
       "      <td>The whole experience was underwhelming, and I ...</td>\n",
       "      <td>0</td>\n",
       "      <td>1</td>\n",
       "    </tr>\n",
       "    <tr>\n",
       "      <th>999</th>\n",
       "      <td>Then, as if I hadn't wasted enough of my life ...</td>\n",
       "      <td>0</td>\n",
       "      <td>0</td>\n",
       "    </tr>\n",
       "  </tbody>\n",
       "</table>\n",
       "<p>1000 rows × 3 columns</p>\n",
       "</div>"
      ],
      "text/plain": [
       "                                                Review  Liked  Textblob_Rating\n",
       "0                             Wow... Loved this place.      1                1\n",
       "1                                   Crust is not good.      0                0\n",
       "2            Not tasty and the texture was just nasty.      0                0\n",
       "3    Stopped by during the late May bank holiday of...      1                1\n",
       "4    The selection on the menu was great and so wer...      1                1\n",
       "..                                                 ...    ...              ...\n",
       "995  I think food should have flavor and texture an...      0                0\n",
       "996                           Appetite instantly gone.      0                0\n",
       "997  Overall I was not impressed and would not go b...      0                0\n",
       "998  The whole experience was underwhelming, and I ...      0                1\n",
       "999  Then, as if I hadn't wasted enough of my life ...      0                0\n",
       "\n",
       "[1000 rows x 3 columns]"
      ]
     },
     "execution_count": 57,
     "metadata": {},
     "output_type": "execute_result"
    }
   ],
   "source": [
    "# Add the textblob sentiment as an extra column to the reviews dataframe\n",
    "textblob_ratings = []\n",
    "for ind, review in restaurant_reviews.iterrows():\n",
    "    analysis = TextBlob(review[\"Review\"])\n",
    "    if analysis.sentiment.polarity > 0:\n",
    "        textblob_ratings.append(1)\n",
    "            \n",
    "    if analysis.sentiment.polarity <= 0:\n",
    "        textblob_ratings.append(0)\n",
    "\n",
    "if 'Textblob_Rating' not in restaurant_reviews.columns:\n",
    "    restaurant_reviews.insert(2, \"Textblob_Rating\", textblob_ratings, True)\n",
    "restaurant_reviews"
   ]
  },
  {
   "cell_type": "code",
   "execution_count": 69,
   "id": "0611791f-f928-4293-b4f4-f6bb0aceaa96",
   "metadata": {},
   "outputs": [
    {
     "name": "stdout",
     "output_type": "stream",
     "text": [
      "The pearson correlation between the Liked and Textblob_Rating columns is equal to 0.5482149423943883\n"
     ]
    },
    {
     "data": {
      "text/html": [
       "<div>\n",
       "<style scoped>\n",
       "    .dataframe tbody tr th:only-of-type {\n",
       "        vertical-align: middle;\n",
       "    }\n",
       "\n",
       "    .dataframe tbody tr th {\n",
       "        vertical-align: top;\n",
       "    }\n",
       "\n",
       "    .dataframe thead th {\n",
       "        text-align: right;\n",
       "    }\n",
       "</style>\n",
       "<table border=\"1\" class=\"dataframe\">\n",
       "  <thead>\n",
       "    <tr style=\"text-align: right;\">\n",
       "      <th></th>\n",
       "      <th>Liked</th>\n",
       "      <th>Textblob_Rating</th>\n",
       "    </tr>\n",
       "  </thead>\n",
       "  <tbody>\n",
       "    <tr>\n",
       "      <th>Liked</th>\n",
       "      <td>1.000000</td>\n",
       "      <td>0.548215</td>\n",
       "    </tr>\n",
       "    <tr>\n",
       "      <th>Textblob_Rating</th>\n",
       "      <td>0.548215</td>\n",
       "      <td>1.000000</td>\n",
       "    </tr>\n",
       "  </tbody>\n",
       "</table>\n",
       "</div>"
      ],
      "text/plain": [
       "                    Liked  Textblob_Rating\n",
       "Liked            1.000000         0.548215\n",
       "Textblob_Rating  0.548215         1.000000"
      ]
     },
     "execution_count": 69,
     "metadata": {},
     "output_type": "execute_result"
    }
   ],
   "source": [
    "# Calculate the pearson correlation between the Liked and Textblob_Rating columns\n",
    "pearson_correlation = restaurant_reviews.corr(method=\"pearson\", numeric_only=True)\n",
    "print(\"The pearson correlation between the Liked and Textblob_Rating columns is equal to {}\"\n",
    "      .format(pearson_correlation.loc['Liked', 'Textblob_Rating']))\n",
    "pearson_correlation"
   ]
  },
  {
   "cell_type": "code",
   "execution_count": 140,
   "id": "5c58f10f-003a-465a-9101-9624545ceab0",
   "metadata": {},
   "outputs": [
    {
     "data": {
      "image/png": "[encoded data removed]",
      "text/plain": [
       "<Figure size 400x400 with 1 Axes>"
      ]
     },
     "metadata": {},
     "output_type": "display_data"
    },
    {
     "data": {
      "image/png": "[encoded data removed]",
      "text/plain": [
       "<Figure size 400x400 with 1 Axes>"
      ]
     },
     "metadata": {},
     "output_type": "display_data"
    }
   ],
   "source": [
    "# Plot the two columns liked and Textblob_Rating\n",
    "restaurant_reviews.plot.hist(column=[\"Liked\"],bins=5, figsize=(4, 4))\n",
    "plt.xticks([0,1], [\"Negative\",\"Positive\"], x=2)\n",
    "\n",
    "bx = restaurant_reviews.plot.hist(column=[\"Textblob_Rating\"],bins=5, figsize=(4, 4))\n",
    "plt.xticks([0,1], [\"Negative\",\"Positive\"], x=2)\n",
    "\n",
    "plt.show()"
   ]
  }
 ],
 "metadata": {
  "kernelspec": {
   "display_name": "Python 3",
   "language": "python",
   "name": "python3"
  },
  "language_info": {
   "codemirror_mode": {
    "name": "ipython",
    "version": 3
   },
   "file_extension": ".py",
   "mimetype": "text/x-python",
   "name": "python",
   "nbconvert_exporter": "python",
   "pygments_lexer": "ipython3",
   "version": "3.8.0"
  }
 },
 "nbformat": 4,
 "nbformat_minor": 5
}
